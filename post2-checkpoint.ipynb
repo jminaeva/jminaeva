{
 "cells": [
  {
   "cell_type": "code",
   "execution_count": 24,
   "id": "952c0379",
   "metadata": {},
   "outputs": [
    {
     "name": "stdout",
     "output_type": "stream",
     "text": [
      "Расстояние от 1й до 2й точки: 3.605551275463989\n",
      "Расстояние от 1й до 3й точки: 5.0\n",
      "Расстояние от 1й до 4й точки: 7.211102550927978\n",
      "Расстояние от 1й до 5й точки: 8.06225774829855\n",
      "Расстояние от 2й до 3й точки: 4.242640687119285\n",
      "Расстояние от 2й до 4й точки: 4.123105625617661\n",
      "Расстояние от 2й до 5й точки: 6.324555320336759\n",
      "Расстояние от 3й до 4й точки: 4.123105625617661\n",
      "Расстояние от 3й до 5й точки: 3.1622776601683795\n",
      "Расстояние от 4й до 5й точки: 3.605551275463989\n",
      "4\n"
     ]
    },
    {
     "data": {
      "text/plain": [
       "False"
      ]
     },
     "execution_count": 24,
     "metadata": {},
     "output_type": "execute_result"
    }
   ],
   "source": [
    "point_1 = (0, 2)\n",
    "point_2 = (2, 5)\n",
    "point_3 = (5, 2)\n",
    "point_4 = (6, 6)\n",
    "point_5 = (8, 3)\n",
    "\n",
    "dest1_2 = (((point_2[0] - point_1[0])**2 + (point_2[1] - point_1[1])**2)**0.5)\n",
    "print(\"Расстояние от 1й до 2й точки:\", dest1_2)\n",
    "\n",
    "dest1_3 = (((point_3[0] - point_1[0])**2 + (point_3[1] - point_1[1])**2)**0.5)\n",
    "print(\"Расстояние от 1й до 3й точки:\", dest1_3)\n",
    "\n",
    "dest1_4 = (((point_4[0] - point_1[0])**2 + (point_4[1] - point_1[1])**2)**0.5)\n",
    "print(\"Расстояние от 1й до 4й точки:\", dest1_4)\n",
    "\n",
    "dest1_5 = (((point_5[0] - point_1[0])**2 + (point_5[1] - point_1[1])**2)**0.5)\n",
    "print(\"Расстояние от 1й до 5й точки:\", dest1_5)\n",
    "\n",
    "\n",
    "dest2_3 = (((point_3[0] - point_2[0])**2 + (point_3[1] - point_2[1])**2)**0.5)\n",
    "print(\"Расстояние от 2й до 3й точки:\", dest2_3)\n",
    "\n",
    "dest2_4 = (((point_4[0] - point_2[0])**2 + (point_4[1] - point_2[1])**2)**0.5)\n",
    "print(\"Расстояние от 2й до 4й точки:\", dest2_4)\n",
    "\n",
    "dest2_5 = (((point_5[0] - point_2[0])**2 + (point_5[1] - point_2[1])**2)**0.5)\n",
    "print(\"Расстояние от 2й до 5й точки:\", dest2_5)\n",
    "\n",
    "dest3_4 = (((point_4[0] - point_3[0])**2 + (point_4[1] - point_3[1])**2)**0.5)\n",
    "print(\"Расстояние от 3й до 4й точки:\", dest3_4)\n",
    "\n",
    "dest3_5 = (((point_5[0] - point_3[0])**2 + (point_5[1] - point_3[1])**2)**0.5)\n",
    "print(\"Расстояние от 3й до 5й точки:\", dest3_5)\n",
    "\n",
    "dest4_5 = (((point_5[0] - point_4[0])**2 + (point_5[1] - point_4[1])**2)**0.5)\n",
    "print(\"Расстояние от 4й до 5й точки:\", dest4_5) \n",
    "\n",
    "\n",
    "a,b,c,d,e = range(5)\n",
    "\n",
    "N = [\n",
    "    [dest1_2, dest1_3, dest1_4, dest1_5], \n",
    "    [dest1_2, dest2_3, dest2_4, dest2_5], \n",
    "    [dest1_3, dest2_3, dest3_4, dest3_5], \n",
    "    [dest1_4, dest2_4, dest3_4, dest4_5], \n",
    "    [dest1_5, dest2_5, dest3_5, dest4_5], \n",
    "]\n",
    "\n",
    "\n",
    "\n",
    "\n"
   ]
  },
  {
   "cell_type": "code",
   "execution_count": null,
   "id": "737bc58d",
   "metadata": {},
   "outputs": [],
   "source": []
  },
  {
   "cell_type": "code",
   "execution_count": null,
   "id": "377c0f89",
   "metadata": {},
   "outputs": [],
   "source": []
  }
 ],
 "metadata": {
  "kernelspec": {
   "display_name": "Python 3",
   "language": "python",
   "name": "python3"
  },
  "language_info": {
   "codemirror_mode": {
    "name": "ipython",
    "version": 3
   },
   "file_extension": ".py",
   "mimetype": "text/x-python",
   "name": "python",
   "nbconvert_exporter": "python",
   "pygments_lexer": "ipython3",
   "version": "3.8.8"
  }
 },
 "nbformat": 4,
 "nbformat_minor": 5
}
